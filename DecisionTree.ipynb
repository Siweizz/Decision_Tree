{
  "nbformat": 4,
  "nbformat_minor": 0,
  "metadata": {
    "kernelspec": {
      "display_name": "Python 3",
      "language": "python",
      "name": "python3"
    },
    "language_info": {
      "codemirror_mode": {
        "name": "ipython",
        "version": 3
      },
      "file_extension": ".py",
      "mimetype": "text/x-python",
      "name": "python",
      "nbconvert_exporter": "python",
      "pygments_lexer": "ipython3",
      "version": "3.8.5"
    },
    "colab": {
      "name": "DecisionTree.ipynb",
      "provenance": [],
      "collapsed_sections": []
    }
  },
  "cells": [
    {
      "cell_type": "markdown",
      "metadata": {
        "id": "dqa5_lJW_RFE"
      },
      "source": [
        "### Classification Trees with numerical features"
      ]
    },
    {
      "cell_type": "markdown",
      "metadata": {
        "id": "fzTp6QNg_RFE"
      },
      "source": [
        "### Datasets used for the problem:\n",
        "\n",
        "Iris: has three classes and the task is to accurately predict one of the three sub-types of the Iris flower given four different physical features. These features include the length and width of the sepals and the petals. There are a total of 150 instances with each class having 50 instances."
      ]
    },
    {
      "cell_type": "markdown",
      "metadata": {
        "id": "Jzrd3iz4_RFE"
      },
      "source": [
        "### Growing Decison Trees \n",
        "Decision Trees (DTs) are a non-parametric supervised learning method used for classification and regression. The goal of this question in the assignment is to create a model that predicts the value of a target variable by learning simple decision rules inferred from the data features. \n",
        "\n",
        "<i>Note: Write in your code only in the place holders where you are instructed to, replacing None.<i>"
      ]
    },
    {
      "cell_type": "code",
      "metadata": {
        "id": "Kv9fWCJm_RFF"
      },
      "source": [
        "# Do not change the code in this cell\n",
        "import pandas as pd\n",
        "import numpy as np\n",
        "import matplotlib.pyplot as plt\n",
        "%matplotlib notebook"
      ],
      "execution_count": null,
      "outputs": []
    },
    {
      "cell_type": "code",
      "metadata": {
        "id": "uMdM53DQFAsi"
      },
      "source": [
        "# Change it to inline to show the plots\n",
        "%matplotlib inline"
      ],
      "execution_count": null,
      "outputs": []
    },
    {
      "cell_type": "markdown",
      "metadata": {
        "id": "5vlKYvw-_RFF"
      },
      "source": [
        "### Here is the first look at your dataset and its feature columns"
      ]
    },
    {
      "cell_type": "code",
      "metadata": {
        "id": "oqjAo6c2_RFG"
      },
      "source": [
        "# Do not change the code in this cell\n",
        "iris_data = pd.read_csv(\"iris.csv\")"
      ],
      "execution_count": null,
      "outputs": []
    },
    {
      "cell_type": "code",
      "metadata": {
        "id": "khJVb6DD_RFG"
      },
      "source": [
        "# Do not change the code in this cell\n",
        "iris_data.drop(\"Id\", axis=1, inplace=True)"
      ],
      "execution_count": null,
      "outputs": []
    },
    {
      "cell_type": "code",
      "metadata": {
        "colab": {
          "base_uri": "https://localhost:8080/",
          "height": 204
        },
        "id": "n8h_niXk_RFG",
        "outputId": "2e018c6f-6e76-4fbd-91aa-e4156e699edf"
      },
      "source": [
        "# Do not change the code in this cell\n",
        "iris_data.head()"
      ],
      "execution_count": null,
      "outputs": [
        {
          "output_type": "execute_result",
          "data": {
            "text/html": [
              "<div>\n",
              "<style scoped>\n",
              "    .dataframe tbody tr th:only-of-type {\n",
              "        vertical-align: middle;\n",
              "    }\n",
              "\n",
              "    .dataframe tbody tr th {\n",
              "        vertical-align: top;\n",
              "    }\n",
              "\n",
              "    .dataframe thead th {\n",
              "        text-align: right;\n",
              "    }\n",
              "</style>\n",
              "<table border=\"1\" class=\"dataframe\">\n",
              "  <thead>\n",
              "    <tr style=\"text-align: right;\">\n",
              "      <th></th>\n",
              "      <th>SepalLengthCm</th>\n",
              "      <th>SepalWidthCm</th>\n",
              "      <th>PetalLengthCm</th>\n",
              "      <th>PetalWidthCm</th>\n",
              "      <th>Species</th>\n",
              "    </tr>\n",
              "  </thead>\n",
              "  <tbody>\n",
              "    <tr>\n",
              "      <th>0</th>\n",
              "      <td>5.1</td>\n",
              "      <td>3.5</td>\n",
              "      <td>1.4</td>\n",
              "      <td>0.2</td>\n",
              "      <td>Iris-setosa</td>\n",
              "    </tr>\n",
              "    <tr>\n",
              "      <th>1</th>\n",
              "      <td>4.9</td>\n",
              "      <td>3.0</td>\n",
              "      <td>1.4</td>\n",
              "      <td>0.2</td>\n",
              "      <td>Iris-setosa</td>\n",
              "    </tr>\n",
              "    <tr>\n",
              "      <th>2</th>\n",
              "      <td>4.7</td>\n",
              "      <td>3.2</td>\n",
              "      <td>1.3</td>\n",
              "      <td>0.2</td>\n",
              "      <td>Iris-setosa</td>\n",
              "    </tr>\n",
              "    <tr>\n",
              "      <th>3</th>\n",
              "      <td>4.6</td>\n",
              "      <td>3.1</td>\n",
              "      <td>1.5</td>\n",
              "      <td>0.2</td>\n",
              "      <td>Iris-setosa</td>\n",
              "    </tr>\n",
              "    <tr>\n",
              "      <th>4</th>\n",
              "      <td>5.0</td>\n",
              "      <td>3.6</td>\n",
              "      <td>1.4</td>\n",
              "      <td>0.2</td>\n",
              "      <td>Iris-setosa</td>\n",
              "    </tr>\n",
              "  </tbody>\n",
              "</table>\n",
              "</div>"
            ],
            "text/plain": [
              "   SepalLengthCm  SepalWidthCm  PetalLengthCm  PetalWidthCm      Species\n",
              "0            5.1           3.5            1.4           0.2  Iris-setosa\n",
              "1            4.9           3.0            1.4           0.2  Iris-setosa\n",
              "2            4.7           3.2            1.3           0.2  Iris-setosa\n",
              "3            4.6           3.1            1.5           0.2  Iris-setosa\n",
              "4            5.0           3.6            1.4           0.2  Iris-setosa"
            ]
          },
          "metadata": {
            "tags": []
          },
          "execution_count": 103
        }
      ]
    },
    {
      "cell_type": "code",
      "metadata": {
        "colab": {
          "base_uri": "https://localhost:8080/"
        },
        "id": "EGZFtBie_RFG",
        "outputId": "d6f88302-ba3b-4c40-a70c-964a46a6b041"
      },
      "source": [
        "# Do not change the code in this cell\n",
        "iris_data.info()"
      ],
      "execution_count": null,
      "outputs": [
        {
          "output_type": "stream",
          "text": [
            "<class 'pandas.core.frame.DataFrame'>\n",
            "RangeIndex: 150 entries, 0 to 149\n",
            "Data columns (total 5 columns):\n",
            " #   Column         Non-Null Count  Dtype  \n",
            "---  ------         --------------  -----  \n",
            " 0   SepalLengthCm  150 non-null    float64\n",
            " 1   SepalWidthCm   150 non-null    float64\n",
            " 2   PetalLengthCm  150 non-null    float64\n",
            " 3   PetalWidthCm   150 non-null    float64\n",
            " 4   Species        150 non-null    object \n",
            "dtypes: float64(4), object(1)\n",
            "memory usage: 6.0+ KB\n"
          ],
          "name": "stdout"
        }
      ]
    },
    {
      "cell_type": "code",
      "metadata": {
        "colab": {
          "base_uri": "https://localhost:8080/",
          "height": 297
        },
        "id": "lvtWzDFL_RFH",
        "outputId": "1e57bd60-993d-4b98-94c2-17f5f92e6f3d"
      },
      "source": [
        "# Do not change the code in this cell\n",
        "iris_data.describe()"
      ],
      "execution_count": null,
      "outputs": [
        {
          "output_type": "execute_result",
          "data": {
            "text/html": [
              "<div>\n",
              "<style scoped>\n",
              "    .dataframe tbody tr th:only-of-type {\n",
              "        vertical-align: middle;\n",
              "    }\n",
              "\n",
              "    .dataframe tbody tr th {\n",
              "        vertical-align: top;\n",
              "    }\n",
              "\n",
              "    .dataframe thead th {\n",
              "        text-align: right;\n",
              "    }\n",
              "</style>\n",
              "<table border=\"1\" class=\"dataframe\">\n",
              "  <thead>\n",
              "    <tr style=\"text-align: right;\">\n",
              "      <th></th>\n",
              "      <th>SepalLengthCm</th>\n",
              "      <th>SepalWidthCm</th>\n",
              "      <th>PetalLengthCm</th>\n",
              "      <th>PetalWidthCm</th>\n",
              "    </tr>\n",
              "  </thead>\n",
              "  <tbody>\n",
              "    <tr>\n",
              "      <th>count</th>\n",
              "      <td>150.000000</td>\n",
              "      <td>150.000000</td>\n",
              "      <td>150.000000</td>\n",
              "      <td>150.000000</td>\n",
              "    </tr>\n",
              "    <tr>\n",
              "      <th>mean</th>\n",
              "      <td>5.843333</td>\n",
              "      <td>3.054000</td>\n",
              "      <td>3.758667</td>\n",
              "      <td>1.198667</td>\n",
              "    </tr>\n",
              "    <tr>\n",
              "      <th>std</th>\n",
              "      <td>0.828066</td>\n",
              "      <td>0.433594</td>\n",
              "      <td>1.764420</td>\n",
              "      <td>0.763161</td>\n",
              "    </tr>\n",
              "    <tr>\n",
              "      <th>min</th>\n",
              "      <td>4.300000</td>\n",
              "      <td>2.000000</td>\n",
              "      <td>1.000000</td>\n",
              "      <td>0.100000</td>\n",
              "    </tr>\n",
              "    <tr>\n",
              "      <th>25%</th>\n",
              "      <td>5.100000</td>\n",
              "      <td>2.800000</td>\n",
              "      <td>1.600000</td>\n",
              "      <td>0.300000</td>\n",
              "    </tr>\n",
              "    <tr>\n",
              "      <th>50%</th>\n",
              "      <td>5.800000</td>\n",
              "      <td>3.000000</td>\n",
              "      <td>4.350000</td>\n",
              "      <td>1.300000</td>\n",
              "    </tr>\n",
              "    <tr>\n",
              "      <th>75%</th>\n",
              "      <td>6.400000</td>\n",
              "      <td>3.300000</td>\n",
              "      <td>5.100000</td>\n",
              "      <td>1.800000</td>\n",
              "    </tr>\n",
              "    <tr>\n",
              "      <th>max</th>\n",
              "      <td>7.900000</td>\n",
              "      <td>4.400000</td>\n",
              "      <td>6.900000</td>\n",
              "      <td>2.500000</td>\n",
              "    </tr>\n",
              "  </tbody>\n",
              "</table>\n",
              "</div>"
            ],
            "text/plain": [
              "       SepalLengthCm  SepalWidthCm  PetalLengthCm  PetalWidthCm\n",
              "count     150.000000    150.000000     150.000000    150.000000\n",
              "mean        5.843333      3.054000       3.758667      1.198667\n",
              "std         0.828066      0.433594       1.764420      0.763161\n",
              "min         4.300000      2.000000       1.000000      0.100000\n",
              "25%         5.100000      2.800000       1.600000      0.300000\n",
              "50%         5.800000      3.000000       4.350000      1.300000\n",
              "75%         6.400000      3.300000       5.100000      1.800000\n",
              "max         7.900000      4.400000       6.900000      2.500000"
            ]
          },
          "metadata": {
            "tags": []
          },
          "execution_count": 105
        }
      ]
    },
    {
      "cell_type": "markdown",
      "metadata": {
        "id": "xRJNjxLS_RFH"
      },
      "source": [
        "### Task\n",
        "Shuffle the data and change the categorical features mentioned in the species column to numeric"
      ]
    },
    {
      "cell_type": "code",
      "metadata": {
        "id": "eC6bbFLz_RFH"
      },
      "source": [
        "# Start code here\n",
        "# Replace the categorical target values in the Species column to numeric\n",
        "iris_data = iris_data.replace({'Species': {'Iris-setosa': 1, 'Iris-versicolor': 2, 'Iris-virginica': 3}})\n",
        "# Shuffle the data\n",
        "iris_data = iris_data.sample(frac = 1)\n",
        "# End code here"
      ],
      "execution_count": null,
      "outputs": []
    },
    {
      "cell_type": "code",
      "metadata": {
        "colab": {
          "base_uri": "https://localhost:8080/",
          "height": 204
        },
        "id": "KB8RSxIp_RFH",
        "outputId": "3e125729-7968-40b9-9b43-306eebd5006b"
      },
      "source": [
        "# Do not change the code in this cell\n",
        "iris_data.head()"
      ],
      "execution_count": null,
      "outputs": [
        {
          "output_type": "execute_result",
          "data": {
            "text/html": [
              "<div>\n",
              "<style scoped>\n",
              "    .dataframe tbody tr th:only-of-type {\n",
              "        vertical-align: middle;\n",
              "    }\n",
              "\n",
              "    .dataframe tbody tr th {\n",
              "        vertical-align: top;\n",
              "    }\n",
              "\n",
              "    .dataframe thead th {\n",
              "        text-align: right;\n",
              "    }\n",
              "</style>\n",
              "<table border=\"1\" class=\"dataframe\">\n",
              "  <thead>\n",
              "    <tr style=\"text-align: right;\">\n",
              "      <th></th>\n",
              "      <th>SepalLengthCm</th>\n",
              "      <th>SepalWidthCm</th>\n",
              "      <th>PetalLengthCm</th>\n",
              "      <th>PetalWidthCm</th>\n",
              "      <th>Species</th>\n",
              "    </tr>\n",
              "  </thead>\n",
              "  <tbody>\n",
              "    <tr>\n",
              "      <th>143</th>\n",
              "      <td>6.8</td>\n",
              "      <td>3.2</td>\n",
              "      <td>5.9</td>\n",
              "      <td>2.3</td>\n",
              "      <td>3</td>\n",
              "    </tr>\n",
              "    <tr>\n",
              "      <th>35</th>\n",
              "      <td>5.0</td>\n",
              "      <td>3.2</td>\n",
              "      <td>1.2</td>\n",
              "      <td>0.2</td>\n",
              "      <td>1</td>\n",
              "    </tr>\n",
              "    <tr>\n",
              "      <th>73</th>\n",
              "      <td>6.1</td>\n",
              "      <td>2.8</td>\n",
              "      <td>4.7</td>\n",
              "      <td>1.2</td>\n",
              "      <td>2</td>\n",
              "    </tr>\n",
              "    <tr>\n",
              "      <th>83</th>\n",
              "      <td>6.0</td>\n",
              "      <td>2.7</td>\n",
              "      <td>5.1</td>\n",
              "      <td>1.6</td>\n",
              "      <td>2</td>\n",
              "    </tr>\n",
              "    <tr>\n",
              "      <th>135</th>\n",
              "      <td>7.7</td>\n",
              "      <td>3.0</td>\n",
              "      <td>6.1</td>\n",
              "      <td>2.3</td>\n",
              "      <td>3</td>\n",
              "    </tr>\n",
              "  </tbody>\n",
              "</table>\n",
              "</div>"
            ],
            "text/plain": [
              "     SepalLengthCm  SepalWidthCm  PetalLengthCm  PetalWidthCm  Species\n",
              "143            6.8           3.2            5.9           2.3        3\n",
              "35             5.0           3.2            1.2           0.2        1\n",
              "73             6.1           2.8            4.7           1.2        2\n",
              "83             6.0           2.7            5.1           1.6        2\n",
              "135            7.7           3.0            6.1           2.3        3"
            ]
          },
          "metadata": {
            "tags": []
          },
          "execution_count": 107
        }
      ]
    },
    {
      "cell_type": "markdown",
      "metadata": {
        "id": "LkkNdFSF_RFH"
      },
      "source": [
        "### Task\n",
        "Time to code your decision tree.\n",
        "\n",
        "In the following cell, create a node class for your Decision Tree Classifier having the following attributes:\n",
        "feature_index, threshold, left, right, info_gain, value, where the condition upon which the decision will be based would be defined by feature_index and threshold, while the attributes left and right will be for accessing the left and the right child of a particular node other than the leaf node in the decision tree. info_gain will denote the information gained by the split denoted by the particular decision node. The value attribute will be holding the value of the majority class of the leaf node without having the other attributes. This will help us to determine the class of new data point."
      ]
    },
    {
      "cell_type": "code",
      "metadata": {
        "id": "Tw_EwLnK_RFI"
      },
      "source": [
        "class Node:  \n",
        "    def __init__(self, feature_index=None, threshold=None, left=None, right=None, info_gain=None, value=None):\n",
        "        # Start code here\n",
        "        # for decision node\n",
        "        self.feature_index = feature_index\n",
        "        self.threshold = threshold\n",
        "        self.left = left\n",
        "        self.right = right\n",
        "        self.info_gain = info_gain\n",
        "        \n",
        "        # for leaf node\n",
        "        self.value = value\n",
        "    # End code here"
      ],
      "execution_count": null,
      "outputs": []
    },
    {
      "cell_type": "markdown",
      "metadata": {
        "id": "mJwnmvEU_RFI"
      },
      "source": [
        "### Task\n",
        "In the following cell, you will create a Decision Tree Classifier from scratch class having the following attributes: root, min_samples_split, max_depth. Other instructions have been given in doc strings and comments"
      ]
    },
    {
      "cell_type": "code",
      "metadata": {
        "id": "uBT7a-16_RFI"
      },
      "source": [
        "class DecisionTreeClassifier:\n",
        "    def __init__(self, min_samples_split=2, max_depth=2):\n",
        "        # Start code here\n",
        "        # Initialize the root of the decision tree to traverse through the decision tree to None\n",
        "        self.root = Node()\n",
        "        # initialize the stopping conditions\n",
        "        self.min_samples_split = min_samples_split\n",
        "        self.max_depth = max_depth\n",
        "        # End code here \n",
        "        \n",
        "        \n",
        "    def build_tree(self, dataset, curr_depth = 0):\n",
        "        \"\"\"\n",
        "        This will be a recursive function to build the decision tree.\n",
        "        dataset: The data that you will be using for your assignment\n",
        "        curr_depth: Current depth of the tree\n",
        "        Returns the leaf node\n",
        "        \"\"\"\n",
        "        # Start code here\n",
        "        # Separate the features and targets into two variables X and Y\n",
        "        X = dataset.drop(['Species'], axis=1)\n",
        "        Y = dataset['Species']\n",
        "        # Extract the number of samples and number of features\n",
        "        num_samples = len(X)\n",
        "        num_features = len(dataset.columns) - 1\n",
        "        \n",
        "        # split until stopping conditions are met\n",
        "        if num_samples >= self.min_samples_split and curr_depth <= self.max_depth:\n",
        "            # finding the best split\n",
        "            best_split = self.get_best_split(dataset, num_samples, num_features)\n",
        "            # check if information gain is positive\n",
        "            if best_split[\"info_gain\"] > 0:\n",
        "                # recur left\n",
        "                left_subtree = self.build_tree(best_split['dataset_left'], curr_depth + 1)\n",
        "                # recur right\n",
        "                right_subtree = self.build_tree(best_split['dataset_right'], curr_depth + 1)\n",
        "                # return the decision node in the form of a dictionary\n",
        "                return Node(best_split[\"feature_index\"], best_split[\"threshold\"],\n",
        "                           left_subtree, right_subtree, best_split[\"info_gain\"])\n",
        "        # compute leaf node\n",
        "        leaf_value = self.calculate_leaf_value(Y)\n",
        "        # End code here\n",
        "        return Node(value=leaf_value)\n",
        "    \n",
        "        \n",
        "    def get_best_split(self, dataset, num_samples, num_features):\n",
        "        \"\"\"\n",
        "        Function to find out the best split\n",
        "        dataset: input data\n",
        "        num_samples: Number of samples present in the dataset\n",
        "        num_features: Number of features in the dataset\n",
        "        Returns the best split\n",
        "        \"\"\"\n",
        "        \n",
        "        # dictionary to store the best split\n",
        "        best_split = {}\n",
        "        max_info_gain = -float(\"inf\")\n",
        "        \n",
        "        # Start code here\n",
        "        # loop over all the features in the data\n",
        "        for feature_index in range(num_features):\n",
        "            feature_values = dataset.iloc[:, feature_index]\n",
        "            # Hint: You can use np.unique function to retrieve the values of the possible threshold\n",
        "            possible_thresholds = feature_values.unique()\n",
        "            # loop over all the feature values present in the data\n",
        "            for threshold in possible_thresholds:\n",
        "                # get current split\n",
        "                dataset_left, dataset_right = self.split(dataset, feature_index, threshold)\n",
        "                # check if children are not null\n",
        "                if len(dataset_left) > 0 and len(dataset_right) > 0:\n",
        "                    y = dataset['Species']\n",
        "                    left_y = dataset_left['Species']\n",
        "                    right_y = dataset_right['Species']\n",
        "                    # compute information gain\n",
        "                    curr_info_gain = self.information_gain(y, left_y, right_y)\n",
        "                    # update the best split if needed\n",
        "                    if curr_info_gain > max_info_gain:\n",
        "                        best_split[\"feature_index\"] = feature_index\n",
        "                        best_split[\"threshold\"] = threshold\n",
        "                        best_split[\"dataset_left\"] = dataset_left\n",
        "                        best_split[\"dataset_right\"] = dataset_right\n",
        "                        best_split[\"info_gain\"] = curr_info_gain\n",
        "                        max_info_gain = curr_info_gain\n",
        "        # End code here\n",
        "\n",
        "        return best_split\n",
        "                    \n",
        "                    \n",
        "    def split(self, dataset, feature_index, threshold):\n",
        "        \"\"\"\n",
        "        Function to split the data to the left child and right child in the decision tree\n",
        "        dataset: input data\n",
        "        feature_index: feature index used to locate the index of the feature in a particular row in the dataset\n",
        "        threshold: threshold value based on which the split will be calculated\n",
        "        Returns the left and right datavalues from the dataset\n",
        "        \"\"\"\n",
        "        # Start code here\n",
        "        # Hint: Use list comprehension to distinguish which values would be present in left and right \n",
        "        # subtree on the basis of threshold\n",
        "        dataset_left = dataset[dataset.iloc[:, feature_index] < threshold]\n",
        "        dataset_right = dataset[dataset.iloc[:, feature_index] >= threshold]\n",
        "        # End code here\n",
        "        return dataset_left, dataset_right\n",
        "        \n",
        "        \n",
        "    def information_gain(self, parent, l_child, r_child, mode=\"entropy\"):\n",
        "        \"\"\"\n",
        "        Function to calculate information gain. This function subtracts the combined information \n",
        "        of the child node from the parent node.\n",
        "        parent: value of parent node\n",
        "        l_child: value of left child node\n",
        "        r_child: value of right child node\n",
        "        mode: based on which information gain will be calculated either entropy/gini index\n",
        "        Returns the information gain\n",
        "        \"\"\"\n",
        "        # Start code here\n",
        "        # Calculate the relative sizes of the child node with respect to the parent node\n",
        "        weight_l = self.entropy(l_child) * len(l_child) / len(parent)\n",
        "        weight_r = self.entropy(r_child) * len(r_child) / len(parent)\n",
        "        # Calculate gain on the with respect to the information gain parameter which will either be \n",
        "        # gini_index or entropy\n",
        "        if mode == \"gini\":\n",
        "            gain = self.gini_index(parent) - weight_l - weight_r\n",
        "        else:\n",
        "            gain = self.entropy(parent) - weight_l - weight_r \n",
        "        # End code here\n",
        "        return gain\n",
        "    \n",
        "    def entropy(self, y):\n",
        "        \"\"\"\n",
        "        Function to calculate the entropy\n",
        "        y: target labels\n",
        "        Returns entropy\n",
        "        \"\"\"\n",
        "        # Start code here\n",
        "        # Extract the class labels\n",
        "        class_labels = np.unique(y)\n",
        "        # Initialize the entropy\n",
        "        entropy = 0\n",
        "        # Calculate the entropy\n",
        "        for cls in class_labels:\n",
        "            p_cls = len(y[y==cls]) / len(y)\n",
        "            entropy += (-p_cls*np.log2(p_cls))\n",
        "        # End code here\n",
        "        return entropy\n",
        "    \n",
        "    \n",
        "    def gini_index(self, y):\n",
        "        \"\"\"\n",
        "        Function to calculate gini index\n",
        "        y: target labels\n",
        "        Returns gini index\n",
        "        \"\"\"\n",
        "        # Extract the class labels\n",
        "        class_labels = np.unique(y)\n",
        "        # Initialize the gini_index\n",
        "        gini = 0\n",
        "        # Calculate the gini index\n",
        "        for cls in class_labels:\n",
        "            p_cls = len(y[y==cls]) / len(y)\n",
        "            gini += p_cls ** 2\n",
        "        return 1 - gini\n",
        "    \n",
        "    \n",
        "    def calculate_leaf_value(self, Y):\n",
        "        \"\"\"\n",
        "        Function to compute thr value of leaf node\n",
        "        Y: target labels\n",
        "        Returns leaf node value\n",
        "        \"\"\"\n",
        "        # Start code here\n",
        "        # Return the most occuring element in Y. Hint: you can use lists \n",
        "        Y_value = np.argmax(np.bincount(Y))\n",
        "        return Y_value\n",
        "        # End code here\n",
        "    \n",
        "    def print_tree(self, tree = None, indent = \" \"):\n",
        "        \"\"\"\n",
        "        Function to print the tree. Use the pre-order traversal method to print the decision tree.\n",
        "        # Do not make any changes in this function\n",
        "        \"\"\"\n",
        "        \n",
        "        if not tree:\n",
        "            tree = self.root\n",
        "        \n",
        "        if tree.value is not None:\n",
        "            print(tree.value)\n",
        "            \n",
        "        else:\n",
        "            print(\"X \" + str(tree.feature_index), \"<=\", tree.threshold, \"?\", tree.info_gain)\n",
        "            print(\"%sleft:\" % (indent), end = \" \")\n",
        "            self.print_tree(tree.left, indent + indent)\n",
        "            print(\"%sright\" % (indent), end = \" \")\n",
        "            self.print_tree(tree.right, indent + indent)\n",
        "            \n",
        "            \n",
        "    def fit(self, X, Y):\n",
        "        \"\"\"\n",
        "        Function to train the tree.\n",
        "        X: Features\n",
        "        Y: Target\n",
        "        \"\"\"\n",
        "        # Start code here\n",
        "        # Concatenate X, Y to create the dataset and call the build_tree function recursively\n",
        "        dataset = np.concatenate([X, Y], axis=1)\n",
        "        dataset = pd.DataFrame(dataset, columns = iris_data.columns)\n",
        "        self.root = self.build_tree(dataset, 0)\n",
        "        # End code here\n",
        "        \n",
        "    \n",
        "    def predict(self, X):\n",
        "        \"\"\"\n",
        "        Prediction function to calculate the all the predictions of the matrix of features \n",
        "        provided using make_predictions function\n",
        "        X: Matrix of features\n",
        "        Returns predictions using the make_predictions function\n",
        "        \"\"\"\n",
        "        # Start code here\n",
        "        predictions = []\n",
        "        for x in X:\n",
        "            predictions.append(self.make_predictions(x, self.root))\n",
        "        # End code here\n",
        "        return predictions\n",
        "    \n",
        "    \n",
        "    def make_predictions(self, x, tree):\n",
        "        \"\"\"\n",
        "        Function to predict a single datapoint\n",
        "        x: data\n",
        "        tree: current tree\n",
        "        Returns predictions\n",
        "        \"\"\"\n",
        "        # Start code here\n",
        "        # return the value if the node is a leaf node\n",
        "        if tree.value != None:\n",
        "            return tree.value\n",
        "        # Extract feature values of a new datapoint at a given feature index\n",
        "        feature_val = x[tree.feature_index]\n",
        "        # Recur through left or right subtree \n",
        "        if feature_val < tree.threshold:\n",
        "            return self.make_predictions(x, tree.left)\n",
        "        return self.make_predictions(x, tree.right)\n",
        "      # End code here\n",
        " "
      ],
      "execution_count": null,
      "outputs": []
    },
    {
      "cell_type": "markdown",
      "metadata": {
        "id": "TlhExBdR_RFL"
      },
      "source": [
        "### Evaluating the model"
      ]
    },
    {
      "cell_type": "code",
      "metadata": {
        "colab": {
          "base_uri": "https://localhost:8080/"
        },
        "id": "f-If3DTP_RFM",
        "outputId": "8d831f20-0648-4913-a141-2a03c82e624b"
      },
      "source": [
        "# Do not change the code in this cell\n",
        "X = iris_data.iloc[:, :-1].values\n",
        "Y = iris_data.iloc[:, -1].values.reshape(-1, 1)\n",
        "from sklearn.model_selection import train_test_split\n",
        "X_train, X_test, Y_train, Y_test = train_test_split(X, Y, test_size=0.2, random_state = 41)\n",
        "classifier = DecisionTreeClassifier(min_samples_split=3, max_depth=3)\n",
        "classifier.fit(X_train, Y_train)\n",
        "classifier.print_tree()\n",
        "y_pred = classifier.predict(X_test)\n",
        "from sklearn.metrics import accuracy_score\n",
        "print(\"Accuracy is: \"+str(accuracy_score(Y_test, y_pred)))"
      ],
      "execution_count": null,
      "outputs": [
        {
          "output_type": "stream",
          "text": [
            "X 2 <= 3.0 ? 0.909736122531166\n",
            " left: 1\n",
            " right X 3 <= 1.8 ? 0.7203020886903042\n",
            "  left: X 2 <= 5.0 ? 0.23172020079568187\n",
            "    left: X 3 <= 1.7 ? 0.17203694935311378\n",
            "        left: 2\n",
            "        right 3\n",
            "    right X 3 <= 1.6 ? 0.4591479170272448\n",
            "        left: 3\n",
            "        right 2\n",
            "  right 3\n",
            "Accuracy is: 0.9666666666666667\n"
          ],
          "name": "stdout"
        }
      ]
    }
  ]
}